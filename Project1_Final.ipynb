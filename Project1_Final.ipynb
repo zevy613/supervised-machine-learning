{
  "nbformat": 4,
  "nbformat_minor": 0,
  "metadata": {
    "colab": {
      "name": "Project1-Final.ipynb",
      "provenance": [],
      "collapsed_sections": [
        "2e066X5cEUSW"
      ],
      "mount_file_id": "1qsIGgyb5GbD0-y5VpTfG2ILy35IA9NVs",
      "authorship_tag": "ABX9TyN4Rc98gprESkOyWUOzQfB5",
      "include_colab_link": true
    },
    "kernelspec": {
      "name": "python3",
      "display_name": "Python 3"
    },
    "language_info": {
      "name": "python"
    }
  },
  "cells": [
    {
      "cell_type": "markdown",
      "metadata": {
        "id": "view-in-github",
        "colab_type": "text"
      },
      "source": [
        "<a href=\"https://colab.research.google.com/github/zevy613/supervised-machine-learning/blob/main/Project1_Final.ipynb\" target=\"_parent\"><img src=\"https://colab.research.google.com/assets/colab-badge.svg\" alt=\"Open In Colab\"/></a>"
      ]
    },
    {
      "cell_type": "code",
      "execution_count": 25,
      "metadata": {
        "id": "2v7KP5reX7cf"
      },
      "outputs": [],
      "source": [
        "import pandas as pd\n",
        "import numpy as np\n",
        "from sklearn.preprocessing import StandardScaler, OneHotEncoder\n",
        "from sklearn.impute import SimpleImputer\n",
        "from sklearn.compose import make_column_transformer, make_column_selector\n",
        "from sklearn.pipeline import make_pipeline\n",
        "from sklearn.model_selection import train_test_split\n",
        "from sklearn import set_config\n",
        "set_config(display='diagram')\n",
        "\n",
        "import matplotlib.pyplot as plt\n",
        "#Import Linear Regression model\n",
        "from sklearn.linear_model import LinearRegression\n",
        "# Import random forest Regressor\n",
        "from sklearn.ensemble import RandomForestRegressor\n",
        "# Import the bagging regressor\n",
        "from sklearn.ensemble import BaggingRegressor\n",
        "#Import regression tree\n",
        "from sklearn.tree import DecisionTreeRegressor\n",
        "#Import Metrics for testing our models\n",
        "from sklearn.metrics import mean_absolute_error, mean_squared_error, r2_score\n",
        "\n",
        "filename = \"/content/drive/MyDrive/Colab Notebooks/CodingDojo/06Regression/sales_predictions.csv\"\n",
        "df = pd.read_csv(filename)\n",
        "df.head()\n",
        "# lets make a copy of our data set so we don't lose the original data.\n",
        "df_ml = df.copy()"
      ]
    },
    {
      "cell_type": "markdown",
      "source": [
        "First lets check for duplicates and missing values."
      ],
      "metadata": {
        "id": "wsKop04WuPzn"
      }
    },
    {
      "cell_type": "code",
      "source": [
        "display(df_ml.duplicated().sum())\n",
        "display(df_ml.isna().sum())"
      ],
      "metadata": {
        "colab": {
          "base_uri": "https://localhost:8080/",
          "height": 260
        },
        "id": "05p4YVClYSTA",
        "outputId": "957ed1fe-ea3b-41e3-c49f-a79189c57427"
      },
      "execution_count": 26,
      "outputs": [
        {
          "output_type": "display_data",
          "data": {
            "text/plain": [
              "0"
            ]
          },
          "metadata": {}
        },
        {
          "output_type": "display_data",
          "data": {
            "text/plain": [
              "Item_Identifier                 0\n",
              "Item_Weight                  1463\n",
              "Item_Fat_Content                0\n",
              "Item_Visibility                 0\n",
              "Item_Type                       0\n",
              "Item_MRP                        0\n",
              "Outlet_Identifier               0\n",
              "Outlet_Establishment_Year       0\n",
              "Outlet_Size                  2410\n",
              "Outlet_Location_Type            0\n",
              "Outlet_Type                     0\n",
              "Item_Outlet_Sales               0\n",
              "dtype: int64"
            ]
          },
          "metadata": {}
        }
      ]
    },
    {
      "cell_type": "markdown",
      "source": [
        "We will deal with our missing values shortly (using simple imputer).\n",
        "For now we'll check for inconsistencies in our data."
      ],
      "metadata": {
        "id": "yISrnZzQuTe6"
      }
    },
    {
      "cell_type": "code",
      "source": [
        "df_ml['Item_Fat_Content'].value_counts()"
      ],
      "metadata": {
        "colab": {
          "base_uri": "https://localhost:8080/"
        },
        "id": "1KZHBBvaYmXw",
        "outputId": "63d44208-5dd4-4898-fe1c-454836ea3ac4"
      },
      "execution_count": 27,
      "outputs": [
        {
          "output_type": "execute_result",
          "data": {
            "text/plain": [
              "Low Fat    5089\n",
              "Regular    2889\n",
              "LF          316\n",
              "reg         117\n",
              "low fat     112\n",
              "Name: Item_Fat_Content, dtype: int64"
            ]
          },
          "metadata": {},
          "execution_count": 27
        }
      ]
    },
    {
      "cell_type": "markdown",
      "source": [
        "From here we clearly see mistakes in the spelling of low fat and regular fat. Let's fix these."
      ],
      "metadata": {
        "id": "FKv67uoZuchu"
      }
    },
    {
      "cell_type": "code",
      "source": [
        "df_ml['Item_Fat_Content'].replace('LF','Low Fat', inplace=True)\n",
        "df_ml['Item_Fat_Content'].replace('low fat','Low Fat', inplace=True)\n",
        "df_ml['Item_Fat_Content'].replace('reg','Regular', inplace=True)\n",
        "df_ml['Item_Fat_Content'].value_counts()"
      ],
      "metadata": {
        "colab": {
          "base_uri": "https://localhost:8080/"
        },
        "id": "DWliCrEcY4m8",
        "outputId": "3739dec2-707e-4e9c-920a-f7217c6ee09f"
      },
      "execution_count": 28,
      "outputs": [
        {
          "output_type": "execute_result",
          "data": {
            "text/plain": [
              "Low Fat    5517\n",
              "Regular    3006\n",
              "Name: Item_Fat_Content, dtype: int64"
            ]
          },
          "metadata": {},
          "execution_count": 28
        }
      ]
    },
    {
      "cell_type": "markdown",
      "source": [
        "Train test split."
      ],
      "metadata": {
        "id": "f_lxlgjnu2el"
      }
    },
    {
      "cell_type": "code",
      "source": [
        "X = df_ml.drop(columns = ['Item_Outlet_Sales'])\n",
        "y = df_ml['Item_Outlet_Sales']\n",
        "X_train, X_test, y_train, y_test = train_test_split(X, y, random_state=42)"
      ],
      "metadata": {
        "id": "ScTDt0X5Y8li"
      },
      "execution_count": 29,
      "outputs": []
    },
    {
      "cell_type": "markdown",
      "source": [
        "Lets re-examine our missing values and the type of the columns. "
      ],
      "metadata": {
        "id": "nDKJErCRu7GK"
      }
    },
    {
      "cell_type": "code",
      "source": [
        "display(X_train.isna().sum())\n",
        "print()\n",
        "display(\"The type of item weight is \", df_ml['Item_Weight'].dtype)\n",
        "print()\n",
        "display(\"The type of Outlet size is \", df_ml['Outlet_Size'].dtype)"
      ],
      "metadata": {
        "colab": {
          "base_uri": "https://localhost:8080/",
          "height": 331
        },
        "id": "_OYRqKbHZovq",
        "outputId": "d2405b18-9e7b-4ae9-d87e-0393c00977ee"
      },
      "execution_count": 30,
      "outputs": [
        {
          "output_type": "display_data",
          "data": {
            "text/plain": [
              "Item_Identifier                 0\n",
              "Item_Weight                  1107\n",
              "Item_Fat_Content                0\n",
              "Item_Visibility                 0\n",
              "Item_Type                       0\n",
              "Item_MRP                        0\n",
              "Outlet_Identifier               0\n",
              "Outlet_Establishment_Year       0\n",
              "Outlet_Size                  1812\n",
              "Outlet_Location_Type            0\n",
              "Outlet_Type                     0\n",
              "dtype: int64"
            ]
          },
          "metadata": {}
        },
        {
          "output_type": "stream",
          "name": "stdout",
          "text": [
            "\n"
          ]
        },
        {
          "output_type": "display_data",
          "data": {
            "text/plain": [
              "'The type of item weight is '"
            ],
            "application/vnd.google.colaboratory.intrinsic+json": {
              "type": "string"
            }
          },
          "metadata": {}
        },
        {
          "output_type": "display_data",
          "data": {
            "text/plain": [
              "dtype('float64')"
            ]
          },
          "metadata": {}
        },
        {
          "output_type": "stream",
          "name": "stdout",
          "text": [
            "\n"
          ]
        },
        {
          "output_type": "display_data",
          "data": {
            "text/plain": [
              "'The type of Outlet size is '"
            ],
            "application/vnd.google.colaboratory.intrinsic+json": {
              "type": "string"
            }
          },
          "metadata": {}
        },
        {
          "output_type": "display_data",
          "data": {
            "text/plain": [
              "dtype('O')"
            ]
          },
          "metadata": {}
        }
      ]
    },
    {
      "cell_type": "markdown",
      "source": [
        "We'll need to impute the values for these columns.\n",
        "\n",
        "We also need to scale our data and One Hot Encode all of the categorical columns."
      ],
      "metadata": {
        "id": "IwmnTwKXvUX9"
      }
    },
    {
      "cell_type": "markdown",
      "source": [
        "We begin by instantiating the selectors we need. Because one column is numeric and one is categoric/object, we'll need two column selectors."
      ],
      "metadata": {
        "id": "gG4bgoS6xoQF"
      }
    },
    {
      "cell_type": "code",
      "source": [
        "#instantiate our solumn selectors\n",
        "num_selector = make_column_selector(dtype_include='number')\n",
        "cat_selector = make_column_selector(dtype_include='object')"
      ],
      "metadata": {
        "id": "l--P57SZb-eJ"
      },
      "execution_count": 31,
      "outputs": []
    },
    {
      "cell_type": "markdown",
      "source": [
        "Next we'll create all of the transformers we need.\n",
        "We will use the mean strategy because we're not concerned with outliers."
      ],
      "metadata": {
        "id": "fHw6OtA2yV93"
      }
    },
    {
      "cell_type": "code",
      "source": [
        "mean_imputer = SimpleImputer(strategy='mean')\n",
        "freq_imputer = SimpleImputer(strategy='most_frequent')\n",
        "\n",
        "scaler = StandardScaler()\n",
        "\n",
        "ohe = OneHotEncoder(handle_unknown='ignore', sparse=False)"
      ],
      "metadata": {
        "id": "Y0BFWZmrygdy"
      },
      "execution_count": 32,
      "outputs": []
    },
    {
      "cell_type": "markdown",
      "source": [
        "Next, because we're applying many transformations on the same column type, we will use piplines."
      ],
      "metadata": {
        "id": "lZmDuSddy-fx"
      }
    },
    {
      "cell_type": "code",
      "source": [
        "num_pipe = make_pipeline(mean_imputer, scaler)\n",
        "cat_pipe = make_pipeline(freq_imputer, ohe)"
      ],
      "metadata": {
        "id": "TDcgJop0zK4J"
      },
      "execution_count": 33,
      "outputs": []
    },
    {
      "cell_type": "markdown",
      "source": [
        "Because we are operating on two different column types we'll need a transformer as well."
      ],
      "metadata": {
        "id": "gkaOsXiUzhoR"
      }
    },
    {
      "cell_type": "code",
      "source": [
        "# group with tuples\n",
        "num_tuple = (num_pipe, num_selector)\n",
        "cat_tuple = (cat_pipe, cat_selector)\n",
        "\n",
        "preprocessor = make_column_transformer(num_tuple, cat_tuple)\n",
        "\n",
        "preprocessor.fit(X_train)"
      ],
      "metadata": {
        "colab": {
          "base_uri": "https://localhost:8080/",
          "height": 152
        },
        "id": "-X8mP4_rzpik",
        "outputId": "2637650e-d44b-4ee9-d360-42a20031a576"
      },
      "execution_count": 34,
      "outputs": [
        {
          "output_type": "execute_result",
          "data": {
            "text/plain": [
              "ColumnTransformer(transformers=[('pipeline-1',\n",
              "                                 Pipeline(steps=[('simpleimputer',\n",
              "                                                  SimpleImputer()),\n",
              "                                                 ('standardscaler',\n",
              "                                                  StandardScaler())]),\n",
              "                                 <sklearn.compose._column_transformer.make_column_selector object at 0x7fd5ed75ce50>),\n",
              "                                ('pipeline-2',\n",
              "                                 Pipeline(steps=[('simpleimputer',\n",
              "                                                  SimpleImputer(strategy='most_frequent')),\n",
              "                                                 ('onehotencoder',\n",
              "                                                  OneHotEncoder(handle_unknown='ignore',\n",
              "                                                                sparse=False))]),\n",
              "                                 <sklearn.compose._column_transformer.make_column_selector object at 0x7fd604945850>)])"
            ],
            "text/html": [
              "<style>#sk-57b15cd4-d075-4b2b-9c0b-ad3fb7ccfc07 {color: black;background-color: white;}#sk-57b15cd4-d075-4b2b-9c0b-ad3fb7ccfc07 pre{padding: 0;}#sk-57b15cd4-d075-4b2b-9c0b-ad3fb7ccfc07 div.sk-toggleable {background-color: white;}#sk-57b15cd4-d075-4b2b-9c0b-ad3fb7ccfc07 label.sk-toggleable__label {cursor: pointer;display: block;width: 100%;margin-bottom: 0;padding: 0.3em;box-sizing: border-box;text-align: center;}#sk-57b15cd4-d075-4b2b-9c0b-ad3fb7ccfc07 label.sk-toggleable__label-arrow:before {content: \"▸\";float: left;margin-right: 0.25em;color: #696969;}#sk-57b15cd4-d075-4b2b-9c0b-ad3fb7ccfc07 label.sk-toggleable__label-arrow:hover:before {color: black;}#sk-57b15cd4-d075-4b2b-9c0b-ad3fb7ccfc07 div.sk-estimator:hover label.sk-toggleable__label-arrow:before {color: black;}#sk-57b15cd4-d075-4b2b-9c0b-ad3fb7ccfc07 div.sk-toggleable__content {max-height: 0;max-width: 0;overflow: hidden;text-align: left;background-color: #f0f8ff;}#sk-57b15cd4-d075-4b2b-9c0b-ad3fb7ccfc07 div.sk-toggleable__content pre {margin: 0.2em;color: black;border-radius: 0.25em;background-color: #f0f8ff;}#sk-57b15cd4-d075-4b2b-9c0b-ad3fb7ccfc07 input.sk-toggleable__control:checked~div.sk-toggleable__content {max-height: 200px;max-width: 100%;overflow: auto;}#sk-57b15cd4-d075-4b2b-9c0b-ad3fb7ccfc07 input.sk-toggleable__control:checked~label.sk-toggleable__label-arrow:before {content: \"▾\";}#sk-57b15cd4-d075-4b2b-9c0b-ad3fb7ccfc07 div.sk-estimator input.sk-toggleable__control:checked~label.sk-toggleable__label {background-color: #d4ebff;}#sk-57b15cd4-d075-4b2b-9c0b-ad3fb7ccfc07 div.sk-label input.sk-toggleable__control:checked~label.sk-toggleable__label {background-color: #d4ebff;}#sk-57b15cd4-d075-4b2b-9c0b-ad3fb7ccfc07 input.sk-hidden--visually {border: 0;clip: rect(1px 1px 1px 1px);clip: rect(1px, 1px, 1px, 1px);height: 1px;margin: -1px;overflow: hidden;padding: 0;position: absolute;width: 1px;}#sk-57b15cd4-d075-4b2b-9c0b-ad3fb7ccfc07 div.sk-estimator {font-family: monospace;background-color: #f0f8ff;border: 1px dotted black;border-radius: 0.25em;box-sizing: border-box;margin-bottom: 0.5em;}#sk-57b15cd4-d075-4b2b-9c0b-ad3fb7ccfc07 div.sk-estimator:hover {background-color: #d4ebff;}#sk-57b15cd4-d075-4b2b-9c0b-ad3fb7ccfc07 div.sk-parallel-item::after {content: \"\";width: 100%;border-bottom: 1px solid gray;flex-grow: 1;}#sk-57b15cd4-d075-4b2b-9c0b-ad3fb7ccfc07 div.sk-label:hover label.sk-toggleable__label {background-color: #d4ebff;}#sk-57b15cd4-d075-4b2b-9c0b-ad3fb7ccfc07 div.sk-serial::before {content: \"\";position: absolute;border-left: 1px solid gray;box-sizing: border-box;top: 2em;bottom: 0;left: 50%;}#sk-57b15cd4-d075-4b2b-9c0b-ad3fb7ccfc07 div.sk-serial {display: flex;flex-direction: column;align-items: center;background-color: white;padding-right: 0.2em;padding-left: 0.2em;}#sk-57b15cd4-d075-4b2b-9c0b-ad3fb7ccfc07 div.sk-item {z-index: 1;}#sk-57b15cd4-d075-4b2b-9c0b-ad3fb7ccfc07 div.sk-parallel {display: flex;align-items: stretch;justify-content: center;background-color: white;}#sk-57b15cd4-d075-4b2b-9c0b-ad3fb7ccfc07 div.sk-parallel::before {content: \"\";position: absolute;border-left: 1px solid gray;box-sizing: border-box;top: 2em;bottom: 0;left: 50%;}#sk-57b15cd4-d075-4b2b-9c0b-ad3fb7ccfc07 div.sk-parallel-item {display: flex;flex-direction: column;position: relative;background-color: white;}#sk-57b15cd4-d075-4b2b-9c0b-ad3fb7ccfc07 div.sk-parallel-item:first-child::after {align-self: flex-end;width: 50%;}#sk-57b15cd4-d075-4b2b-9c0b-ad3fb7ccfc07 div.sk-parallel-item:last-child::after {align-self: flex-start;width: 50%;}#sk-57b15cd4-d075-4b2b-9c0b-ad3fb7ccfc07 div.sk-parallel-item:only-child::after {width: 0;}#sk-57b15cd4-d075-4b2b-9c0b-ad3fb7ccfc07 div.sk-dashed-wrapped {border: 1px dashed gray;margin: 0 0.4em 0.5em 0.4em;box-sizing: border-box;padding-bottom: 0.4em;background-color: white;position: relative;}#sk-57b15cd4-d075-4b2b-9c0b-ad3fb7ccfc07 div.sk-label label {font-family: monospace;font-weight: bold;background-color: white;display: inline-block;line-height: 1.2em;}#sk-57b15cd4-d075-4b2b-9c0b-ad3fb7ccfc07 div.sk-label-container {position: relative;z-index: 2;text-align: center;}#sk-57b15cd4-d075-4b2b-9c0b-ad3fb7ccfc07 div.sk-container {/* jupyter's `normalize.less` sets `[hidden] { display: none; }` but bootstrap.min.css set `[hidden] { display: none !important; }` so we also need the `!important` here to be able to override the default hidden behavior on the sphinx rendered scikit-learn.org. See: https://github.com/scikit-learn/scikit-learn/issues/21755 */display: inline-block !important;position: relative;}#sk-57b15cd4-d075-4b2b-9c0b-ad3fb7ccfc07 div.sk-text-repr-fallback {display: none;}</style><div id=\"sk-57b15cd4-d075-4b2b-9c0b-ad3fb7ccfc07\" class=\"sk-top-container\"><div class=\"sk-text-repr-fallback\"><pre>ColumnTransformer(transformers=[(&#x27;pipeline-1&#x27;,\n",
              "                                 Pipeline(steps=[(&#x27;simpleimputer&#x27;,\n",
              "                                                  SimpleImputer()),\n",
              "                                                 (&#x27;standardscaler&#x27;,\n",
              "                                                  StandardScaler())]),\n",
              "                                 &lt;sklearn.compose._column_transformer.make_column_selector object at 0x7fd5ed75ce50&gt;),\n",
              "                                (&#x27;pipeline-2&#x27;,\n",
              "                                 Pipeline(steps=[(&#x27;simpleimputer&#x27;,\n",
              "                                                  SimpleImputer(strategy=&#x27;most_frequent&#x27;)),\n",
              "                                                 (&#x27;onehotencoder&#x27;,\n",
              "                                                  OneHotEncoder(handle_unknown=&#x27;ignore&#x27;,\n",
              "                                                                sparse=False))]),\n",
              "                                 &lt;sklearn.compose._column_transformer.make_column_selector object at 0x7fd604945850&gt;)])</pre><b>Please rerun this cell to show the HTML repr or trust the notebook.</b></div><div class=\"sk-container\" hidden><div class=\"sk-item sk-dashed-wrapped\"><div class=\"sk-label-container\"><div class=\"sk-label sk-toggleable\"><input class=\"sk-toggleable__control sk-hidden--visually\" id=\"771fc562-686a-43c6-8bf5-c0490d05fe07\" type=\"checkbox\" ><label for=\"771fc562-686a-43c6-8bf5-c0490d05fe07\" class=\"sk-toggleable__label sk-toggleable__label-arrow\">ColumnTransformer</label><div class=\"sk-toggleable__content\"><pre>ColumnTransformer(transformers=[(&#x27;pipeline-1&#x27;,\n",
              "                                 Pipeline(steps=[(&#x27;simpleimputer&#x27;,\n",
              "                                                  SimpleImputer()),\n",
              "                                                 (&#x27;standardscaler&#x27;,\n",
              "                                                  StandardScaler())]),\n",
              "                                 &lt;sklearn.compose._column_transformer.make_column_selector object at 0x7fd5ed75ce50&gt;),\n",
              "                                (&#x27;pipeline-2&#x27;,\n",
              "                                 Pipeline(steps=[(&#x27;simpleimputer&#x27;,\n",
              "                                                  SimpleImputer(strategy=&#x27;most_frequent&#x27;)),\n",
              "                                                 (&#x27;onehotencoder&#x27;,\n",
              "                                                  OneHotEncoder(handle_unknown=&#x27;ignore&#x27;,\n",
              "                                                                sparse=False))]),\n",
              "                                 &lt;sklearn.compose._column_transformer.make_column_selector object at 0x7fd604945850&gt;)])</pre></div></div></div><div class=\"sk-parallel\"><div class=\"sk-parallel-item\"><div class=\"sk-item\"><div class=\"sk-label-container\"><div class=\"sk-label sk-toggleable\"><input class=\"sk-toggleable__control sk-hidden--visually\" id=\"754d71db-a3b0-437e-b83d-1a752222fe2d\" type=\"checkbox\" ><label for=\"754d71db-a3b0-437e-b83d-1a752222fe2d\" class=\"sk-toggleable__label sk-toggleable__label-arrow\">pipeline-1</label><div class=\"sk-toggleable__content\"><pre>&lt;sklearn.compose._column_transformer.make_column_selector object at 0x7fd5ed75ce50&gt;</pre></div></div></div><div class=\"sk-serial\"><div class=\"sk-item\"><div class=\"sk-serial\"><div class=\"sk-item\"><div class=\"sk-estimator sk-toggleable\"><input class=\"sk-toggleable__control sk-hidden--visually\" id=\"0aa4616f-44af-4805-8fda-5faf97117398\" type=\"checkbox\" ><label for=\"0aa4616f-44af-4805-8fda-5faf97117398\" class=\"sk-toggleable__label sk-toggleable__label-arrow\">SimpleImputer</label><div class=\"sk-toggleable__content\"><pre>SimpleImputer()</pre></div></div></div><div class=\"sk-item\"><div class=\"sk-estimator sk-toggleable\"><input class=\"sk-toggleable__control sk-hidden--visually\" id=\"699f6844-5e71-48ce-891c-165e6cad6c12\" type=\"checkbox\" ><label for=\"699f6844-5e71-48ce-891c-165e6cad6c12\" class=\"sk-toggleable__label sk-toggleable__label-arrow\">StandardScaler</label><div class=\"sk-toggleable__content\"><pre>StandardScaler()</pre></div></div></div></div></div></div></div></div><div class=\"sk-parallel-item\"><div class=\"sk-item\"><div class=\"sk-label-container\"><div class=\"sk-label sk-toggleable\"><input class=\"sk-toggleable__control sk-hidden--visually\" id=\"15c0ba3b-9555-4ac9-9d90-4e741cbeb4ae\" type=\"checkbox\" ><label for=\"15c0ba3b-9555-4ac9-9d90-4e741cbeb4ae\" class=\"sk-toggleable__label sk-toggleable__label-arrow\">pipeline-2</label><div class=\"sk-toggleable__content\"><pre>&lt;sklearn.compose._column_transformer.make_column_selector object at 0x7fd604945850&gt;</pre></div></div></div><div class=\"sk-serial\"><div class=\"sk-item\"><div class=\"sk-serial\"><div class=\"sk-item\"><div class=\"sk-estimator sk-toggleable\"><input class=\"sk-toggleable__control sk-hidden--visually\" id=\"61e6bee9-1846-4acb-8c6c-c1c4cfcf86e0\" type=\"checkbox\" ><label for=\"61e6bee9-1846-4acb-8c6c-c1c4cfcf86e0\" class=\"sk-toggleable__label sk-toggleable__label-arrow\">SimpleImputer</label><div class=\"sk-toggleable__content\"><pre>SimpleImputer(strategy=&#x27;most_frequent&#x27;)</pre></div></div></div><div class=\"sk-item\"><div class=\"sk-estimator sk-toggleable\"><input class=\"sk-toggleable__control sk-hidden--visually\" id=\"c12dfc06-be49-4680-9b97-035337d95b4d\" type=\"checkbox\" ><label for=\"c12dfc06-be49-4680-9b97-035337d95b4d\" class=\"sk-toggleable__label sk-toggleable__label-arrow\">OneHotEncoder</label><div class=\"sk-toggleable__content\"><pre>OneHotEncoder(handle_unknown=&#x27;ignore&#x27;, sparse=False)</pre></div></div></div></div></div></div></div></div></div></div></div></div>"
            ]
          },
          "metadata": {},
          "execution_count": 34
        }
      ]
    },
    {
      "cell_type": "markdown",
      "source": [
        "Now we can transform our data all at once."
      ],
      "metadata": {
        "id": "krxbMHhr0M45"
      }
    },
    {
      "cell_type": "code",
      "source": [
        "X_train_processed = preprocessor.transform(X_train)\n",
        "X_test_processed = preprocessor.transform(X_test)"
      ],
      "metadata": {
        "id": "BFwl6MFz0RMo"
      },
      "execution_count": 35,
      "outputs": []
    },
    {
      "cell_type": "markdown",
      "source": [
        "Check to see if there are any null values.\n"
      ],
      "metadata": {
        "id": "csbaIqBmwN_4"
      }
    },
    {
      "cell_type": "code",
      "source": [
        "np.isnan(X_train_processed).sum().sum()"
      ],
      "metadata": {
        "colab": {
          "base_uri": "https://localhost:8080/"
        },
        "id": "V9ysmPDD1xhB",
        "outputId": "2121e78f-1d7b-4024-c95e-157b5edae8d9"
      },
      "execution_count": 36,
      "outputs": [
        {
          "output_type": "execute_result",
          "data": {
            "text/plain": [
              "0"
            ]
          },
          "metadata": {},
          "execution_count": 36
        }
      ]
    },
    {
      "cell_type": "markdown",
      "source": [
        "Perfect, we have no missing data! We are ready for modeling."
      ],
      "metadata": {
        "id": "u52MFy0E2VsV"
      }
    },
    {
      "cell_type": "markdown",
      "source": [
        "Before we begin modeling, we will define a method that will help us when we need to perform evaluations on our models. We wil be using R-Squared scoring and RMSE."
      ],
      "metadata": {
        "id": "Blb2Rit0AQzr"
      }
    },
    {
      "cell_type": "code",
      "source": [
        "def metrics(y, pred):\n",
        "  print(\" R^2 : \", round(r2_score(y, pred),3))\n",
        "  print(\"RMSE : \", round(np.sqrt(mean_squared_error(y,pred)),3))"
      ],
      "metadata": {
        "id": "jUkzBPJ5AQbu"
      },
      "execution_count": 37,
      "outputs": []
    },
    {
      "cell_type": "markdown",
      "source": [
        "Lets begin by build a linear regression model to predict sales.\n",
        "\n",
        "We will;\n",
        "\n",
        "  1) Build the model.\n",
        "  2) Evaluate the performance of our model using R-squared scoring and RMSE."
      ],
      "metadata": {
        "id": "ixFBBCYI1dJ_"
      }
    },
    {
      "cell_type": "code",
      "source": [
        "#instantiate model\n",
        "linear_reg = LinearRegression()\n",
        "\n",
        "#fit the data\n",
        "linear_reg.fit(X_train_processed, y_train)\n",
        "\n",
        "#make our predictions\n",
        "train_pred = linear_reg.predict(X_train_processed)\n",
        "test_pred = linear_reg.predict(X_test_processed)"
      ],
      "metadata": {
        "id": "JePgZxrp1cay"
      },
      "execution_count": 38,
      "outputs": []
    },
    {
      "cell_type": "markdown",
      "source": [
        "Now lets evaluate our model to see how well it performed."
      ],
      "metadata": {
        "id": "k0hnTahf5pS_"
      }
    },
    {
      "cell_type": "code",
      "source": [
        "print(\"Metrics for training data\")\n",
        "metrics(y_train, train_pred)\n",
        "print(\"\\nMetrics for testing data\")\n",
        "metrics(y_test, test_pred)"
      ],
      "metadata": {
        "colab": {
          "base_uri": "https://localhost:8080/"
        },
        "id": "o0NH0qkS4xo5",
        "outputId": "5301591a-90b8-4e4d-908e-41c4a780cfb2"
      },
      "execution_count": 39,
      "outputs": [
        {
          "output_type": "stream",
          "name": "stdout",
          "text": [
            "Metrics for training data\n",
            " R^2 :  0.671\n",
            "RMSE :  986.086\n",
            "\n",
            "Metrics for testing data\n",
            " R^2 :  -1.6575880497968222e+19\n",
            "RMSE :  6762579228318.999\n"
          ]
        }
      ]
    },
    {
      "cell_type": "markdown",
      "source": [
        "Next lets build a regression TREE model to predict sales.\n",
        "\n",
        "We will begin by\n",
        "\n",
        "  1) Building a regression tree model.\n",
        "  2) Evaluate and compare the performance of our model using r^2 and rmse. "
      ],
      "metadata": {
        "id": "FcsGt2R38pbc"
      }
    },
    {
      "cell_type": "code",
      "source": [
        "#instantiate decision tree\n",
        "dec_tree = DecisionTreeRegressor(max_depth=5, random_state=42)\n",
        "\n",
        "#fit the data\n",
        "dec_tree.fit(X_train_processed, y_train)\n",
        "\n",
        "#make our predictions\n",
        "train_pred = dec_tree.predict(X_train_processed)\n",
        "test_pred = dec_tree.predict(X_test_processed)"
      ],
      "metadata": {
        "id": "IYHquh9b6MVu"
      },
      "execution_count": 40,
      "outputs": []
    },
    {
      "cell_type": "markdown",
      "source": [
        "Now lets evaluate and compare our results."
      ],
      "metadata": {
        "id": "lPnC5E0j-HPF"
      }
    },
    {
      "cell_type": "code",
      "source": [
        "print(\"Metrics for training data\")\n",
        "metrics(y_train, train_pred)\n",
        "print(\"\\nMetrics for testing data\")\n",
        "metrics(y_test, test_pred) "
      ],
      "metadata": {
        "colab": {
          "base_uri": "https://localhost:8080/"
        },
        "id": "TowX2gK8-LVH",
        "outputId": "707f9550-3fbf-48e9-f82e-fa03fbf584c5"
      },
      "execution_count": 41,
      "outputs": [
        {
          "output_type": "stream",
          "name": "stdout",
          "text": [
            "Metrics for training data\n",
            " R^2 :  0.604\n",
            "RMSE :  1082.281\n",
            "\n",
            "Metrics for testing data\n",
            " R^2 :  0.596\n",
            "RMSE :  1055.685\n"
          ]
        }
      ]
    },
    {
      "cell_type": "markdown",
      "source": [
        "#Tuning Basic Tree Regression"
      ],
      "metadata": {
        "id": "2e066X5cEUSW"
      }
    },
    {
      "cell_type": "code",
      "source": [
        "#Tuning basic regression tree\n",
        "print(\"The default depth is : \", dec_tree.get_depth())\n",
        "\n",
        "# List of values to try for max_depth:\n",
        "depths = list(range(2, dec_tree.get_depth()+1)) \n",
        "\n",
        "# Lets make a DataFrame to store the score for each value of max_depth:\n",
        "\n",
        "scores = pd.DataFrame(index=depths, columns=['Test Score','Train Score'])\n",
        "for depth in depths:\n",
        "    dec_tree = DecisionTreeRegressor(max_depth=depth, random_state=42)\n",
        "    \n",
        "    dec_tree.fit(X_train_processed, y_train)\n",
        "    \n",
        "    train_score = dec_tree.score(X_train_processed, y_train)\n",
        "    test_score = dec_tree.score(X_test_processed, y_test)\n",
        "    \n",
        "    scores.loc[depth, 'Train Score'] = train_score\n",
        "    scores.loc[depth, 'Test Score'] = test_score\n",
        "\n",
        "\n",
        "sorted_scores = scores.sort_values(by='Test Score', ascending=False)\n",
        "sorted_scores.head()"
      ],
      "metadata": {
        "id": "FLPnBqlUDZEP",
        "colab": {
          "base_uri": "https://localhost:8080/",
          "height": 192
        },
        "outputId": "1736840b-4e8b-407e-8cfb-28dcdf17f960"
      },
      "execution_count": 42,
      "outputs": [
        {
          "output_type": "stream",
          "name": "stdout",
          "text": [
            "The default depth is :  5\n"
          ]
        },
        {
          "output_type": "execute_result",
          "data": {
            "text/plain": [
              "  Test Score Train Score\n",
              "5   0.596056    0.604207\n",
              "4   0.583937    0.582705\n",
              "3   0.524222    0.524218\n",
              "2   0.433778    0.431641"
            ],
            "text/html": [
              "\n",
              "  <div id=\"df-6af7244d-7d71-41cf-939f-4e08cb1c1a0d\">\n",
              "    <div class=\"colab-df-container\">\n",
              "      <div>\n",
              "<style scoped>\n",
              "    .dataframe tbody tr th:only-of-type {\n",
              "        vertical-align: middle;\n",
              "    }\n",
              "\n",
              "    .dataframe tbody tr th {\n",
              "        vertical-align: top;\n",
              "    }\n",
              "\n",
              "    .dataframe thead th {\n",
              "        text-align: right;\n",
              "    }\n",
              "</style>\n",
              "<table border=\"1\" class=\"dataframe\">\n",
              "  <thead>\n",
              "    <tr style=\"text-align: right;\">\n",
              "      <th></th>\n",
              "      <th>Test Score</th>\n",
              "      <th>Train Score</th>\n",
              "    </tr>\n",
              "  </thead>\n",
              "  <tbody>\n",
              "    <tr>\n",
              "      <th>5</th>\n",
              "      <td>0.596056</td>\n",
              "      <td>0.604207</td>\n",
              "    </tr>\n",
              "    <tr>\n",
              "      <th>4</th>\n",
              "      <td>0.583937</td>\n",
              "      <td>0.582705</td>\n",
              "    </tr>\n",
              "    <tr>\n",
              "      <th>3</th>\n",
              "      <td>0.524222</td>\n",
              "      <td>0.524218</td>\n",
              "    </tr>\n",
              "    <tr>\n",
              "      <th>2</th>\n",
              "      <td>0.433778</td>\n",
              "      <td>0.431641</td>\n",
              "    </tr>\n",
              "  </tbody>\n",
              "</table>\n",
              "</div>\n",
              "      <button class=\"colab-df-convert\" onclick=\"convertToInteractive('df-6af7244d-7d71-41cf-939f-4e08cb1c1a0d')\"\n",
              "              title=\"Convert this dataframe to an interactive table.\"\n",
              "              style=\"display:none;\">\n",
              "        \n",
              "  <svg xmlns=\"http://www.w3.org/2000/svg\" height=\"24px\"viewBox=\"0 0 24 24\"\n",
              "       width=\"24px\">\n",
              "    <path d=\"M0 0h24v24H0V0z\" fill=\"none\"/>\n",
              "    <path d=\"M18.56 5.44l.94 2.06.94-2.06 2.06-.94-2.06-.94-.94-2.06-.94 2.06-2.06.94zm-11 1L8.5 8.5l.94-2.06 2.06-.94-2.06-.94L8.5 2.5l-.94 2.06-2.06.94zm10 10l.94 2.06.94-2.06 2.06-.94-2.06-.94-.94-2.06-.94 2.06-2.06.94z\"/><path d=\"M17.41 7.96l-1.37-1.37c-.4-.4-.92-.59-1.43-.59-.52 0-1.04.2-1.43.59L10.3 9.45l-7.72 7.72c-.78.78-.78 2.05 0 2.83L4 21.41c.39.39.9.59 1.41.59.51 0 1.02-.2 1.41-.59l7.78-7.78 2.81-2.81c.8-.78.8-2.07 0-2.86zM5.41 20L4 18.59l7.72-7.72 1.47 1.35L5.41 20z\"/>\n",
              "  </svg>\n",
              "      </button>\n",
              "      \n",
              "  <style>\n",
              "    .colab-df-container {\n",
              "      display:flex;\n",
              "      flex-wrap:wrap;\n",
              "      gap: 12px;\n",
              "    }\n",
              "\n",
              "    .colab-df-convert {\n",
              "      background-color: #E8F0FE;\n",
              "      border: none;\n",
              "      border-radius: 50%;\n",
              "      cursor: pointer;\n",
              "      display: none;\n",
              "      fill: #1967D2;\n",
              "      height: 32px;\n",
              "      padding: 0 0 0 0;\n",
              "      width: 32px;\n",
              "    }\n",
              "\n",
              "    .colab-df-convert:hover {\n",
              "      background-color: #E2EBFA;\n",
              "      box-shadow: 0px 1px 2px rgba(60, 64, 67, 0.3), 0px 1px 3px 1px rgba(60, 64, 67, 0.15);\n",
              "      fill: #174EA6;\n",
              "    }\n",
              "\n",
              "    [theme=dark] .colab-df-convert {\n",
              "      background-color: #3B4455;\n",
              "      fill: #D2E3FC;\n",
              "    }\n",
              "\n",
              "    [theme=dark] .colab-df-convert:hover {\n",
              "      background-color: #434B5C;\n",
              "      box-shadow: 0px 1px 3px 1px rgba(0, 0, 0, 0.15);\n",
              "      filter: drop-shadow(0px 1px 2px rgba(0, 0, 0, 0.3));\n",
              "      fill: #FFFFFF;\n",
              "    }\n",
              "  </style>\n",
              "\n",
              "      <script>\n",
              "        const buttonEl =\n",
              "          document.querySelector('#df-6af7244d-7d71-41cf-939f-4e08cb1c1a0d button.colab-df-convert');\n",
              "        buttonEl.style.display =\n",
              "          google.colab.kernel.accessAllowed ? 'block' : 'none';\n",
              "\n",
              "        async function convertToInteractive(key) {\n",
              "          const element = document.querySelector('#df-6af7244d-7d71-41cf-939f-4e08cb1c1a0d');\n",
              "          const dataTable =\n",
              "            await google.colab.kernel.invokeFunction('convertToInteractive',\n",
              "                                                     [key], {});\n",
              "          if (!dataTable) return;\n",
              "\n",
              "          const docLinkHtml = 'Like what you see? Visit the ' +\n",
              "            '<a target=\"_blank\" href=https://colab.research.google.com/notebooks/data_table.ipynb>data table notebook</a>'\n",
              "            + ' to learn more about interactive tables.';\n",
              "          element.innerHTML = '';\n",
              "          dataTable['output_type'] = 'display_data';\n",
              "          await google.colab.output.renderOutput(dataTable, element);\n",
              "          const docLink = document.createElement('div');\n",
              "          docLink.innerHTML = docLinkHtml;\n",
              "          element.appendChild(docLink);\n",
              "        }\n",
              "      </script>\n",
              "    </div>\n",
              "  </div>\n",
              "  "
            ]
          },
          "metadata": {},
          "execution_count": 42
        }
      ]
    },
    {
      "cell_type": "markdown",
      "source": [
        "#Bagged trees"
      ],
      "metadata": {
        "id": "Njl8J6-oEdiQ"
      }
    },
    {
      "cell_type": "code",
      "source": [
        "bagreg = BaggingRegressor(n_estimators=100, random_state=42)\n",
        "\n",
        "bagreg.fit(X_train_processed, y_train)\n",
        "\n",
        "train_pred = bagreg.predict(X_train_processed)\n",
        "test_pred = bagreg.predict(X_test_processed)\n",
        "\n",
        "print(\"Metrics for training data\")\n",
        "metrics(y_train, train_pred)\n",
        "print(\"\\nMetrics for testing data\")\n",
        "metrics(y_test, test_pred) "
      ],
      "metadata": {
        "colab": {
          "base_uri": "https://localhost:8080/"
        },
        "id": "RFxGMwqBEfwd",
        "outputId": "666408ae-7e62-435a-ba7e-500a60ada8ed"
      },
      "execution_count": 43,
      "outputs": [
        {
          "output_type": "stream",
          "name": "stdout",
          "text": [
            "Metrics for training data\n",
            " R^2 :  0.938\n",
            "RMSE :  428.911\n",
            "\n",
            "Metrics for testing data\n",
            " R^2 :  0.55\n",
            "RMSE :  1113.893\n"
          ]
        }
      ]
    },
    {
      "cell_type": "markdown",
      "source": [
        "#Tuning for Bagged Trees"
      ],
      "metadata": {
        "id": "CstZkU6SFBTY"
      }
    },
    {
      "cell_type": "code",
      "source": [
        "#Tuning for baged trees\n",
        "\n",
        "# List of estimator values\n",
        "estimators = [10, 20, 30, 40, 50, 100]\n",
        "\n",
        "# Data frame to store the scores\n",
        "scores = pd.DataFrame(index=estimators, columns=['Test Score', 'Train Score'])\n",
        "\n",
        "# Iterate through the values to find the best number of estimators\n",
        "for num_estimators in estimators:\n",
        "   bagreg = BaggingRegressor(n_estimators=num_estimators, random_state=42)\n",
        "   \n",
        "   bagreg.fit(X_train_processed, y_train)\n",
        "   \n",
        "   train_score = bagreg.score(X_train_processed, y_train)\n",
        "   test_score = bagreg.score(X_test_processed, y_test)\n",
        "   \n",
        "   scores.loc[num_estimators, 'Train Score'] = train_score\n",
        "   scores.loc[num_estimators, 'Test Score'] = test_score\n",
        "\n",
        "scores = scores.sort_values(by='Test Score', ascending=False)\n",
        "scores.head()"
      ],
      "metadata": {
        "id": "d6DTTUQGE8sO"
      },
      "execution_count": null,
      "outputs": []
    },
    {
      "cell_type": "markdown",
      "source": [
        "#Random forest"
      ],
      "metadata": {
        "id": "-K3PV-HSGKok"
      }
    },
    {
      "cell_type": "code",
      "source": [
        "rf = RandomForestRegressor(random_state=42)\n",
        "rf.fit(X_train_processed, y_train)\n",
        "\n",
        "train_pred = rf.predict(X_train_processed)\n",
        "test_pred = rf.predict(X_test_processed)\n",
        "\n",
        "print(\"Metrics for training data\")\n",
        "metrics(y_train, train_pred)\n",
        "print(\"\\nMetrics for testing data\")\n",
        "metrics(y_test, test_pred) "
      ],
      "metadata": {
        "colab": {
          "base_uri": "https://localhost:8080/"
        },
        "id": "ST_BKJHZFeAQ",
        "outputId": "996627f8-2e99-46b2-bf9a-732ccc762179"
      },
      "execution_count": 45,
      "outputs": [
        {
          "output_type": "stream",
          "name": "stdout",
          "text": [
            "Metrics for training data\n",
            " R^2 :  0.938\n",
            "RMSE :  428.748\n",
            "\n",
            "Metrics for testing data\n",
            " R^2 :  0.55\n",
            "RMSE :  1114.012\n"
          ]
        }
      ]
    },
    {
      "cell_type": "markdown",
      "source": [
        "#Tuning Random Forest model"
      ],
      "metadata": {
        "id": "KXoTOWCeGxD8"
      }
    },
    {
      "cell_type": "code",
      "source": [
        "#tuning the depth of our trees for a forest model\n",
        "est_depths = [estimator.get_depth() for estimator in rf.estimators_]\n",
        "d = max(est_depths)\n",
        "depths = range(1, d)\n",
        "scores = pd.DataFrame(index=depths, columns=['Test Score', 'Train Score'])\n",
        "for depth in depths:    \n",
        "   \n",
        "   rf = RandomForestRegressor(max_depth=depth)\n",
        "   \n",
        "   rf.fit(X_train_processed, y_train)\n",
        "   \n",
        "   scores.loc[depth, 'Train Score'] = rf.score(X_train_processed, y_train)\n",
        "   scores.loc[depth, 'Test Score'] = rf.score(X_test_processed, y_test)\n",
        "   \n",
        "sorted_scores = scores.sort_values(by='Test Score', ascending=False)\n",
        "display(sorted_scores.head())\n",
        "\n",
        "#tuning the number of estimators for our forest model\n",
        "n_ests = [50, 100, 150, 200, 250]\n",
        "scores2 = pd.DataFrame(index=n_ests, columns=['Test Score', 'Train Score'])\n",
        "for n in n_ests:\n",
        "   \n",
        "   rf = RandomForestRegressor(max_depth=sorted_scores.index[0], n_estimators=n)\n",
        "   \n",
        "   rf.fit(X_train_processed, y_train)\n",
        "   \n",
        "   scores2.loc[n, 'Train Score'] = rf.score(X_train_processed, y_train)\n",
        "   scores2.loc[n, 'Test Score'] = rf.score(X_test_processed, y_test)\n",
        "\n",
        "sorted_scores2 = scores2.sort_values(by='Test Score', ascending=False)\n",
        "display(sorted_scores2.head())"
      ],
      "metadata": {
        "id": "bJhKtgGZGwpa"
      },
      "execution_count": null,
      "outputs": []
    },
    {
      "cell_type": "markdown",
      "source": [
        "#3) After trying different models on our data set lets determine which model we would choose to implement.\n",
        "\n",
        "I would reccomend using a basic Regression Tree for the data set.\n",
        "Out of all the models that are used above, the baic Regression Tree has the highest R^2 score. As per r^2 avaluation metric we can see the model was exaplined 59% correcltly by the dependent variable. This means the depedent variable was able to exaplined by the variance of the data with 59% based on given independant features. Using RMSE, we can predict the value of our dependent variable up to 1,055 dollars of the target value.\n"
      ],
      "metadata": {
        "id": "5rDHWjwHMX8v"
      }
    }
  ]
}