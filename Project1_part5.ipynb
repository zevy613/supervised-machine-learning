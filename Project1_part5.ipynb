{
  "nbformat": 4,
  "nbformat_minor": 0,
  "metadata": {
    "colab": {
      "name": "Project1-part5.ipynb",
      "provenance": [],
      "collapsed_sections": [],
      "mount_file_id": "1Bu0cw6Jkayqsb_n5MoxLDpXGIV55IM2n",
      "authorship_tag": "ABX9TyMCdeEKj6jKODRScCTfK5vD",
      "include_colab_link": true
    },
    "kernelspec": {
      "name": "python3",
      "display_name": "Python 3"
    },
    "language_info": {
      "name": "python"
    }
  },
  "cells": [
    {
      "cell_type": "markdown",
      "metadata": {
        "id": "view-in-github",
        "colab_type": "text"
      },
      "source": [
        "<a href=\"https://colab.research.google.com/github/zevy613/supervised-machine-learning/blob/main/Project1_part5.ipynb\" target=\"_parent\"><img src=\"https://colab.research.google.com/assets/colab-badge.svg\" alt=\"Open In Colab\"/></a>"
      ]
    },
    {
      "cell_type": "code",
      "execution_count": 13,
      "metadata": {
        "id": "2v7KP5reX7cf"
      },
      "outputs": [],
      "source": [
        "import pandas as pd\n",
        "import numpy as np\n",
        "from sklearn.preprocessing import StandardScaler, OneHotEncoder\n",
        "from sklearn.impute import SimpleImputer\n",
        "from sklearn.compose import make_column_transformer, make_column_selector\n",
        "from sklearn.pipeline import make_pipeline\n",
        "from sklearn.model_selection import train_test_split\n",
        "from sklearn import set_config\n",
        "set_config(display='diagram')\n",
        "\n",
        "filename = \"/content/drive/MyDrive/Colab Notebooks/CodingDojo/05IntroML/sales_predictions.csv\"\n",
        "df = pd.read_csv(filename)\n",
        "df.head()\n",
        "# lets make a copy of our data set so we don't lose the original data.\n",
        "df_ml = df.copy()"
      ]
    },
    {
      "cell_type": "markdown",
      "source": [
        "First lets check for duplicates"
      ],
      "metadata": {
        "id": "wsKop04WuPzn"
      }
    },
    {
      "cell_type": "code",
      "source": [
        "df.duplicated().sum()"
      ],
      "metadata": {
        "colab": {
          "base_uri": "https://localhost:8080/"
        },
        "id": "05p4YVClYSTA",
        "outputId": "6d96cc3d-5d1c-4773-cdba-cac7db8ea191"
      },
      "execution_count": 14,
      "outputs": [
        {
          "output_type": "execute_result",
          "data": {
            "text/plain": [
              "0"
            ]
          },
          "metadata": {},
          "execution_count": 14
        }
      ]
    },
    {
      "cell_type": "markdown",
      "source": [
        "Next, we'll check for inconsistencies in our data."
      ],
      "metadata": {
        "id": "yISrnZzQuTe6"
      }
    },
    {
      "cell_type": "code",
      "source": [
        "df['Item_Fat_Content'].value_counts()"
      ],
      "metadata": {
        "colab": {
          "base_uri": "https://localhost:8080/"
        },
        "id": "1KZHBBvaYmXw",
        "outputId": "283f2673-af4c-478d-dd32-9ac86c44e863"
      },
      "execution_count": 15,
      "outputs": [
        {
          "output_type": "execute_result",
          "data": {
            "text/plain": [
              "Low Fat    5089\n",
              "Regular    2889\n",
              "LF          316\n",
              "reg         117\n",
              "low fat     112\n",
              "Name: Item_Fat_Content, dtype: int64"
            ]
          },
          "metadata": {},
          "execution_count": 15
        }
      ]
    },
    {
      "cell_type": "markdown",
      "source": [
        "From here we clearly see mistakes in the spelling of low fat and regular fat. Let's fix these."
      ],
      "metadata": {
        "id": "FKv67uoZuchu"
      }
    },
    {
      "cell_type": "code",
      "source": [
        "df['Item_Fat_Content'].replace('LF','Low Fat', inplace=True)\n",
        "df['Item_Fat_Content'].replace('low fat','Low Fat', inplace=True)\n",
        "df['Item_Fat_Content'].replace('reg','Regular', inplace=True)\n",
        "df['Item_Fat_Content'].value_counts()"
      ],
      "metadata": {
        "colab": {
          "base_uri": "https://localhost:8080/"
        },
        "id": "DWliCrEcY4m8",
        "outputId": "47553a05-bc91-434f-ff30-4ac5cac20437"
      },
      "execution_count": 16,
      "outputs": [
        {
          "output_type": "execute_result",
          "data": {
            "text/plain": [
              "Low Fat    5517\n",
              "Regular    3006\n",
              "Name: Item_Fat_Content, dtype: int64"
            ]
          },
          "metadata": {},
          "execution_count": 16
        }
      ]
    },
    {
      "cell_type": "markdown",
      "source": [
        "Train test split."
      ],
      "metadata": {
        "id": "f_lxlgjnu2el"
      }
    },
    {
      "cell_type": "code",
      "source": [
        "X = df.drop(columns = ['Item_Outlet_Sales'])\n",
        "y = df['Item_Outlet_Sales']\n",
        "X_train, X_test, y_train, y_test = train_test_split(X, y, random_state=42)"
      ],
      "metadata": {
        "id": "ScTDt0X5Y8li"
      },
      "execution_count": 17,
      "outputs": []
    },
    {
      "cell_type": "markdown",
      "source": [
        "Lets check for missing values and the type of the columns. "
      ],
      "metadata": {
        "id": "nDKJErCRu7GK"
      }
    },
    {
      "cell_type": "code",
      "source": [
        "display(X_train.isna().sum())\n",
        "print()\n",
        "display(\"The type of item weight is \", df['Item_Weight'].dtype)\n",
        "print()\n",
        "display(\"The type of Outlet size is \", df['Outlet_Size'].dtype)"
      ],
      "metadata": {
        "colab": {
          "base_uri": "https://localhost:8080/",
          "height": 331
        },
        "id": "_OYRqKbHZovq",
        "outputId": "f8e6a8ff-e74f-4626-cd40-a3728292a8d8"
      },
      "execution_count": 18,
      "outputs": [
        {
          "output_type": "display_data",
          "data": {
            "text/plain": [
              "Item_Identifier                 0\n",
              "Item_Weight                  1107\n",
              "Item_Fat_Content                0\n",
              "Item_Visibility                 0\n",
              "Item_Type                       0\n",
              "Item_MRP                        0\n",
              "Outlet_Identifier               0\n",
              "Outlet_Establishment_Year       0\n",
              "Outlet_Size                  1812\n",
              "Outlet_Location_Type            0\n",
              "Outlet_Type                     0\n",
              "dtype: int64"
            ]
          },
          "metadata": {}
        },
        {
          "output_type": "stream",
          "name": "stdout",
          "text": [
            "\n"
          ]
        },
        {
          "output_type": "display_data",
          "data": {
            "text/plain": [
              "'The type of item weight is '"
            ],
            "application/vnd.google.colaboratory.intrinsic+json": {
              "type": "string"
            }
          },
          "metadata": {}
        },
        {
          "output_type": "display_data",
          "data": {
            "text/plain": [
              "dtype('float64')"
            ]
          },
          "metadata": {}
        },
        {
          "output_type": "stream",
          "name": "stdout",
          "text": [
            "\n"
          ]
        },
        {
          "output_type": "display_data",
          "data": {
            "text/plain": [
              "'The type of Outlet size is '"
            ],
            "application/vnd.google.colaboratory.intrinsic+json": {
              "type": "string"
            }
          },
          "metadata": {}
        },
        {
          "output_type": "display_data",
          "data": {
            "text/plain": [
              "dtype('O')"
            ]
          },
          "metadata": {}
        }
      ]
    },
    {
      "cell_type": "markdown",
      "source": [
        "We'll need to impute the values for these columns.\n",
        "\n",
        "We also need to scale our data and One Hot Encode all of the categorical columns."
      ],
      "metadata": {
        "id": "IwmnTwKXvUX9"
      }
    },
    {
      "cell_type": "markdown",
      "source": [
        "We begin by instantiating the selectors we need. Because one column is numeric and one is categoric/object, we'll need two column selectors."
      ],
      "metadata": {
        "id": "gG4bgoS6xoQF"
      }
    },
    {
      "cell_type": "code",
      "source": [
        "#instantiate our solumn selectors\n",
        "num_selector = make_column_selector(dtype_include='number')\n",
        "cat_selector = make_column_selector(dtype_include='object')"
      ],
      "metadata": {
        "id": "l--P57SZb-eJ"
      },
      "execution_count": 19,
      "outputs": []
    },
    {
      "cell_type": "markdown",
      "source": [
        "Next we'll create all of the transformers we need.\n",
        "We will use the mean strategy because we're not concerned with outliers."
      ],
      "metadata": {
        "id": "fHw6OtA2yV93"
      }
    },
    {
      "cell_type": "code",
      "source": [
        "mean_imputer = SimpleImputer(strategy='mean')\n",
        "freq_imputer = SimpleImputer(strategy='most_frequent')\n",
        "\n",
        "scaler = StandardScaler()\n",
        "\n",
        "ohe = OneHotEncoder(handle_unknown='ignore', sparse=False)"
      ],
      "metadata": {
        "id": "Y0BFWZmrygdy"
      },
      "execution_count": 20,
      "outputs": []
    },
    {
      "cell_type": "markdown",
      "source": [
        "Next, because we're applying many transformations on the same column type, we will use piplines."
      ],
      "metadata": {
        "id": "lZmDuSddy-fx"
      }
    },
    {
      "cell_type": "code",
      "source": [
        "num_pipe = make_pipeline(mean_imputer, scaler)\n",
        "cat_pipe = make_pipeline(freq_imputer, ohe)"
      ],
      "metadata": {
        "id": "TDcgJop0zK4J"
      },
      "execution_count": 21,
      "outputs": []
    },
    {
      "cell_type": "markdown",
      "source": [
        "Because we are operating on two different column types we'll need a transformer as well."
      ],
      "metadata": {
        "id": "gkaOsXiUzhoR"
      }
    },
    {
      "cell_type": "code",
      "source": [
        "# group with tuples\n",
        "num_tuple = (num_pipe, num_selector)\n",
        "cat_tuple = (cat_pipe, cat_selector)\n",
        "\n",
        "preprocessor = make_column_transformer(num_tuple, cat_tuple)\n",
        "\n",
        "preprocessor.fit(X_train)"
      ],
      "metadata": {
        "colab": {
          "base_uri": "https://localhost:8080/",
          "height": 152
        },
        "id": "-X8mP4_rzpik",
        "outputId": "0caa2975-aca0-4453-dbe5-a8c4b92f2510"
      },
      "execution_count": 22,
      "outputs": [
        {
          "output_type": "execute_result",
          "data": {
            "text/plain": [
              "ColumnTransformer(transformers=[('pipeline-1',\n",
              "                                 Pipeline(steps=[('simpleimputer',\n",
              "                                                  SimpleImputer()),\n",
              "                                                 ('standardscaler',\n",
              "                                                  StandardScaler())]),\n",
              "                                 <sklearn.compose._column_transformer.make_column_selector object at 0x7fa13c8fce10>),\n",
              "                                ('pipeline-2',\n",
              "                                 Pipeline(steps=[('simpleimputer',\n",
              "                                                  SimpleImputer(strategy='most_frequent')),\n",
              "                                                 ('onehotencoder',\n",
              "                                                  OneHotEncoder(handle_unknown='ignore',\n",
              "                                                                sparse=False))]),\n",
              "                                 <sklearn.compose._column_transformer.make_column_selector object at 0x7fa13c8fc690>)])"
            ],
            "text/html": [
              "<style>#sk-2c69605e-e041-4c66-993e-c7922f8fb228 {color: black;background-color: white;}#sk-2c69605e-e041-4c66-993e-c7922f8fb228 pre{padding: 0;}#sk-2c69605e-e041-4c66-993e-c7922f8fb228 div.sk-toggleable {background-color: white;}#sk-2c69605e-e041-4c66-993e-c7922f8fb228 label.sk-toggleable__label {cursor: pointer;display: block;width: 100%;margin-bottom: 0;padding: 0.3em;box-sizing: border-box;text-align: center;}#sk-2c69605e-e041-4c66-993e-c7922f8fb228 label.sk-toggleable__label-arrow:before {content: \"▸\";float: left;margin-right: 0.25em;color: #696969;}#sk-2c69605e-e041-4c66-993e-c7922f8fb228 label.sk-toggleable__label-arrow:hover:before {color: black;}#sk-2c69605e-e041-4c66-993e-c7922f8fb228 div.sk-estimator:hover label.sk-toggleable__label-arrow:before {color: black;}#sk-2c69605e-e041-4c66-993e-c7922f8fb228 div.sk-toggleable__content {max-height: 0;max-width: 0;overflow: hidden;text-align: left;background-color: #f0f8ff;}#sk-2c69605e-e041-4c66-993e-c7922f8fb228 div.sk-toggleable__content pre {margin: 0.2em;color: black;border-radius: 0.25em;background-color: #f0f8ff;}#sk-2c69605e-e041-4c66-993e-c7922f8fb228 input.sk-toggleable__control:checked~div.sk-toggleable__content {max-height: 200px;max-width: 100%;overflow: auto;}#sk-2c69605e-e041-4c66-993e-c7922f8fb228 input.sk-toggleable__control:checked~label.sk-toggleable__label-arrow:before {content: \"▾\";}#sk-2c69605e-e041-4c66-993e-c7922f8fb228 div.sk-estimator input.sk-toggleable__control:checked~label.sk-toggleable__label {background-color: #d4ebff;}#sk-2c69605e-e041-4c66-993e-c7922f8fb228 div.sk-label input.sk-toggleable__control:checked~label.sk-toggleable__label {background-color: #d4ebff;}#sk-2c69605e-e041-4c66-993e-c7922f8fb228 input.sk-hidden--visually {border: 0;clip: rect(1px 1px 1px 1px);clip: rect(1px, 1px, 1px, 1px);height: 1px;margin: -1px;overflow: hidden;padding: 0;position: absolute;width: 1px;}#sk-2c69605e-e041-4c66-993e-c7922f8fb228 div.sk-estimator {font-family: monospace;background-color: #f0f8ff;border: 1px dotted black;border-radius: 0.25em;box-sizing: border-box;margin-bottom: 0.5em;}#sk-2c69605e-e041-4c66-993e-c7922f8fb228 div.sk-estimator:hover {background-color: #d4ebff;}#sk-2c69605e-e041-4c66-993e-c7922f8fb228 div.sk-parallel-item::after {content: \"\";width: 100%;border-bottom: 1px solid gray;flex-grow: 1;}#sk-2c69605e-e041-4c66-993e-c7922f8fb228 div.sk-label:hover label.sk-toggleable__label {background-color: #d4ebff;}#sk-2c69605e-e041-4c66-993e-c7922f8fb228 div.sk-serial::before {content: \"\";position: absolute;border-left: 1px solid gray;box-sizing: border-box;top: 2em;bottom: 0;left: 50%;}#sk-2c69605e-e041-4c66-993e-c7922f8fb228 div.sk-serial {display: flex;flex-direction: column;align-items: center;background-color: white;padding-right: 0.2em;padding-left: 0.2em;}#sk-2c69605e-e041-4c66-993e-c7922f8fb228 div.sk-item {z-index: 1;}#sk-2c69605e-e041-4c66-993e-c7922f8fb228 div.sk-parallel {display: flex;align-items: stretch;justify-content: center;background-color: white;}#sk-2c69605e-e041-4c66-993e-c7922f8fb228 div.sk-parallel::before {content: \"\";position: absolute;border-left: 1px solid gray;box-sizing: border-box;top: 2em;bottom: 0;left: 50%;}#sk-2c69605e-e041-4c66-993e-c7922f8fb228 div.sk-parallel-item {display: flex;flex-direction: column;position: relative;background-color: white;}#sk-2c69605e-e041-4c66-993e-c7922f8fb228 div.sk-parallel-item:first-child::after {align-self: flex-end;width: 50%;}#sk-2c69605e-e041-4c66-993e-c7922f8fb228 div.sk-parallel-item:last-child::after {align-self: flex-start;width: 50%;}#sk-2c69605e-e041-4c66-993e-c7922f8fb228 div.sk-parallel-item:only-child::after {width: 0;}#sk-2c69605e-e041-4c66-993e-c7922f8fb228 div.sk-dashed-wrapped {border: 1px dashed gray;margin: 0 0.4em 0.5em 0.4em;box-sizing: border-box;padding-bottom: 0.4em;background-color: white;position: relative;}#sk-2c69605e-e041-4c66-993e-c7922f8fb228 div.sk-label label {font-family: monospace;font-weight: bold;background-color: white;display: inline-block;line-height: 1.2em;}#sk-2c69605e-e041-4c66-993e-c7922f8fb228 div.sk-label-container {position: relative;z-index: 2;text-align: center;}#sk-2c69605e-e041-4c66-993e-c7922f8fb228 div.sk-container {/* jupyter's `normalize.less` sets `[hidden] { display: none; }` but bootstrap.min.css set `[hidden] { display: none !important; }` so we also need the `!important` here to be able to override the default hidden behavior on the sphinx rendered scikit-learn.org. See: https://github.com/scikit-learn/scikit-learn/issues/21755 */display: inline-block !important;position: relative;}#sk-2c69605e-e041-4c66-993e-c7922f8fb228 div.sk-text-repr-fallback {display: none;}</style><div id=\"sk-2c69605e-e041-4c66-993e-c7922f8fb228\" class=\"sk-top-container\"><div class=\"sk-text-repr-fallback\"><pre>ColumnTransformer(transformers=[(&#x27;pipeline-1&#x27;,\n",
              "                                 Pipeline(steps=[(&#x27;simpleimputer&#x27;,\n",
              "                                                  SimpleImputer()),\n",
              "                                                 (&#x27;standardscaler&#x27;,\n",
              "                                                  StandardScaler())]),\n",
              "                                 &lt;sklearn.compose._column_transformer.make_column_selector object at 0x7fa13c8fce10&gt;),\n",
              "                                (&#x27;pipeline-2&#x27;,\n",
              "                                 Pipeline(steps=[(&#x27;simpleimputer&#x27;,\n",
              "                                                  SimpleImputer(strategy=&#x27;most_frequent&#x27;)),\n",
              "                                                 (&#x27;onehotencoder&#x27;,\n",
              "                                                  OneHotEncoder(handle_unknown=&#x27;ignore&#x27;,\n",
              "                                                                sparse=False))]),\n",
              "                                 &lt;sklearn.compose._column_transformer.make_column_selector object at 0x7fa13c8fc690&gt;)])</pre><b>Please rerun this cell to show the HTML repr or trust the notebook.</b></div><div class=\"sk-container\" hidden><div class=\"sk-item sk-dashed-wrapped\"><div class=\"sk-label-container\"><div class=\"sk-label sk-toggleable\"><input class=\"sk-toggleable__control sk-hidden--visually\" id=\"65a5a57f-99a0-445d-babf-b18932657fc2\" type=\"checkbox\" ><label for=\"65a5a57f-99a0-445d-babf-b18932657fc2\" class=\"sk-toggleable__label sk-toggleable__label-arrow\">ColumnTransformer</label><div class=\"sk-toggleable__content\"><pre>ColumnTransformer(transformers=[(&#x27;pipeline-1&#x27;,\n",
              "                                 Pipeline(steps=[(&#x27;simpleimputer&#x27;,\n",
              "                                                  SimpleImputer()),\n",
              "                                                 (&#x27;standardscaler&#x27;,\n",
              "                                                  StandardScaler())]),\n",
              "                                 &lt;sklearn.compose._column_transformer.make_column_selector object at 0x7fa13c8fce10&gt;),\n",
              "                                (&#x27;pipeline-2&#x27;,\n",
              "                                 Pipeline(steps=[(&#x27;simpleimputer&#x27;,\n",
              "                                                  SimpleImputer(strategy=&#x27;most_frequent&#x27;)),\n",
              "                                                 (&#x27;onehotencoder&#x27;,\n",
              "                                                  OneHotEncoder(handle_unknown=&#x27;ignore&#x27;,\n",
              "                                                                sparse=False))]),\n",
              "                                 &lt;sklearn.compose._column_transformer.make_column_selector object at 0x7fa13c8fc690&gt;)])</pre></div></div></div><div class=\"sk-parallel\"><div class=\"sk-parallel-item\"><div class=\"sk-item\"><div class=\"sk-label-container\"><div class=\"sk-label sk-toggleable\"><input class=\"sk-toggleable__control sk-hidden--visually\" id=\"6f3396de-6389-4842-b479-1e6b9c9d00be\" type=\"checkbox\" ><label for=\"6f3396de-6389-4842-b479-1e6b9c9d00be\" class=\"sk-toggleable__label sk-toggleable__label-arrow\">pipeline-1</label><div class=\"sk-toggleable__content\"><pre>&lt;sklearn.compose._column_transformer.make_column_selector object at 0x7fa13c8fce10&gt;</pre></div></div></div><div class=\"sk-serial\"><div class=\"sk-item\"><div class=\"sk-serial\"><div class=\"sk-item\"><div class=\"sk-estimator sk-toggleable\"><input class=\"sk-toggleable__control sk-hidden--visually\" id=\"7e24e84a-6a79-45c9-9242-68c1ae6f6b05\" type=\"checkbox\" ><label for=\"7e24e84a-6a79-45c9-9242-68c1ae6f6b05\" class=\"sk-toggleable__label sk-toggleable__label-arrow\">SimpleImputer</label><div class=\"sk-toggleable__content\"><pre>SimpleImputer()</pre></div></div></div><div class=\"sk-item\"><div class=\"sk-estimator sk-toggleable\"><input class=\"sk-toggleable__control sk-hidden--visually\" id=\"ede564ed-adca-46d3-b915-d4fac5f133b9\" type=\"checkbox\" ><label for=\"ede564ed-adca-46d3-b915-d4fac5f133b9\" class=\"sk-toggleable__label sk-toggleable__label-arrow\">StandardScaler</label><div class=\"sk-toggleable__content\"><pre>StandardScaler()</pre></div></div></div></div></div></div></div></div><div class=\"sk-parallel-item\"><div class=\"sk-item\"><div class=\"sk-label-container\"><div class=\"sk-label sk-toggleable\"><input class=\"sk-toggleable__control sk-hidden--visually\" id=\"82433976-2bfb-40f7-b0d7-f1ffe3b27fcb\" type=\"checkbox\" ><label for=\"82433976-2bfb-40f7-b0d7-f1ffe3b27fcb\" class=\"sk-toggleable__label sk-toggleable__label-arrow\">pipeline-2</label><div class=\"sk-toggleable__content\"><pre>&lt;sklearn.compose._column_transformer.make_column_selector object at 0x7fa13c8fc690&gt;</pre></div></div></div><div class=\"sk-serial\"><div class=\"sk-item\"><div class=\"sk-serial\"><div class=\"sk-item\"><div class=\"sk-estimator sk-toggleable\"><input class=\"sk-toggleable__control sk-hidden--visually\" id=\"8bfe6753-5d55-4e95-8f7c-6e82035afeaa\" type=\"checkbox\" ><label for=\"8bfe6753-5d55-4e95-8f7c-6e82035afeaa\" class=\"sk-toggleable__label sk-toggleable__label-arrow\">SimpleImputer</label><div class=\"sk-toggleable__content\"><pre>SimpleImputer(strategy=&#x27;most_frequent&#x27;)</pre></div></div></div><div class=\"sk-item\"><div class=\"sk-estimator sk-toggleable\"><input class=\"sk-toggleable__control sk-hidden--visually\" id=\"9920eeb6-c74c-45c2-8e2d-66086c3f3e2d\" type=\"checkbox\" ><label for=\"9920eeb6-c74c-45c2-8e2d-66086c3f3e2d\" class=\"sk-toggleable__label sk-toggleable__label-arrow\">OneHotEncoder</label><div class=\"sk-toggleable__content\"><pre>OneHotEncoder(handle_unknown=&#x27;ignore&#x27;, sparse=False)</pre></div></div></div></div></div></div></div></div></div></div></div></div>"
            ]
          },
          "metadata": {},
          "execution_count": 22
        }
      ]
    },
    {
      "cell_type": "markdown",
      "source": [
        "Now we can transform our data all at once."
      ],
      "metadata": {
        "id": "krxbMHhr0M45"
      }
    },
    {
      "cell_type": "code",
      "source": [
        "X_train_processed = preprocessor.transform(X_train)\n",
        "X_test_processed = preprocessor.transform(X_test)"
      ],
      "metadata": {
        "id": "BFwl6MFz0RMo"
      },
      "execution_count": 23,
      "outputs": []
    },
    {
      "cell_type": "markdown",
      "source": [
        "Check to see if there are any null values.\n"
      ],
      "metadata": {
        "id": "csbaIqBmwN_4"
      }
    },
    {
      "cell_type": "code",
      "source": [
        "np.isnan(X_train_processed).sum().sum()"
      ],
      "metadata": {
        "colab": {
          "base_uri": "https://localhost:8080/"
        },
        "id": "V9ysmPDD1xhB",
        "outputId": "44f83fb5-c0a0-4da9-ec23-a0bebb3b80e5"
      },
      "execution_count": 24,
      "outputs": [
        {
          "output_type": "execute_result",
          "data": {
            "text/plain": [
              "0"
            ]
          },
          "metadata": {},
          "execution_count": 24
        }
      ]
    },
    {
      "cell_type": "markdown",
      "source": [
        "Perfect, we have no missing data! We are ready for modeling."
      ],
      "metadata": {
        "id": "u52MFy0E2VsV"
      }
    }
  ]
}