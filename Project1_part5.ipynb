{
  "nbformat": 4,
  "nbformat_minor": 0,
  "metadata": {
    "colab": {
      "name": "Project1-part5.ipynb",
      "provenance": [],
      "collapsed_sections": [],
      "mount_file_id": "1Bu0cw6Jkayqsb_n5MoxLDpXGIV55IM2n",
      "authorship_tag": "ABX9TyPQZobvZAuaIxVWQ3Nc2L3X",
      "include_colab_link": true
    },
    "kernelspec": {
      "name": "python3",
      "display_name": "Python 3"
    },
    "language_info": {
      "name": "python"
    }
  },
  "cells": [
    {
      "cell_type": "markdown",
      "metadata": {
        "id": "view-in-github",
        "colab_type": "text"
      },
      "source": [
        "<a href=\"https://colab.research.google.com/github/zevy613/supervised-machine-learning/blob/main/Project1_part5.ipynb\" target=\"_parent\"><img src=\"https://colab.research.google.com/assets/colab-badge.svg\" alt=\"Open In Colab\"/></a>"
      ]
    },
    {
      "cell_type": "code",
      "execution_count": 13,
      "metadata": {
        "id": "2v7KP5reX7cf"
      },
      "outputs": [],
      "source": [
        "import pandas as pd\n",
        "import numpy as np\n",
        "from sklearn.preprocessing import StandardScaler, OneHotEncoder\n",
        "from sklearn.impute import SimpleImputer\n",
        "from sklearn.compose import make_column_transformer, make_column_selector\n",
        "from sklearn.pipeline import make_pipeline\n",
        "from sklearn.model_selection import train_test_split\n",
        "from sklearn import set_config\n",
        "set_config(display='diagram')\n",
        "\n",
        "filename = \"/content/drive/MyDrive/Colab Notebooks/CodingDojo/05IntroML/sales_predictions.csv\"\n",
        "df = pd.read_csv(filename)\n",
        "df.head()\n",
        "# lets make a copy of our data set so we don't lose the original data.\n",
        "df_ml = df.copy()"
      ]
    },
    {
      "cell_type": "markdown",
      "source": [
        "First lets check for duplicates and missing values."
      ],
      "metadata": {
        "id": "wsKop04WuPzn"
      }
    },
    {
      "cell_type": "code",
      "source": [
        "display(df_ml.duplicated().sum())\n",
        "display(df_ml.isna().sum())"
      ],
      "metadata": {
        "colab": {
          "base_uri": "https://localhost:8080/",
          "height": 260
        },
        "id": "05p4YVClYSTA",
        "outputId": "fe4f6df7-aa84-4be1-911a-f3b654157460"
      },
      "execution_count": 14,
      "outputs": [
        {
          "output_type": "display_data",
          "data": {
            "text/plain": [
              "0"
            ]
          },
          "metadata": {}
        },
        {
          "output_type": "display_data",
          "data": {
            "text/plain": [
              "Item_Identifier                 0\n",
              "Item_Weight                  1463\n",
              "Item_Fat_Content                0\n",
              "Item_Visibility                 0\n",
              "Item_Type                       0\n",
              "Item_MRP                        0\n",
              "Outlet_Identifier               0\n",
              "Outlet_Establishment_Year       0\n",
              "Outlet_Size                  2410\n",
              "Outlet_Location_Type            0\n",
              "Outlet_Type                     0\n",
              "Item_Outlet_Sales               0\n",
              "dtype: int64"
            ]
          },
          "metadata": {}
        }
      ]
    },
    {
      "cell_type": "markdown",
      "source": [
        "We will deal with our missing values shortly (using simple imputer).\n",
        "Fro now we'll check for inconsistencies in our data."
      ],
      "metadata": {
        "id": "yISrnZzQuTe6"
      }
    },
    {
      "cell_type": "code",
      "source": [
        "df_ml['Item_Fat_Content'].value_counts()"
      ],
      "metadata": {
        "colab": {
          "base_uri": "https://localhost:8080/"
        },
        "id": "1KZHBBvaYmXw",
        "outputId": "f734d57b-889e-4c1f-8318-9860b5fc154b"
      },
      "execution_count": 15,
      "outputs": [
        {
          "output_type": "execute_result",
          "data": {
            "text/plain": [
              "Low Fat    5089\n",
              "Regular    2889\n",
              "LF          316\n",
              "reg         117\n",
              "low fat     112\n",
              "Name: Item_Fat_Content, dtype: int64"
            ]
          },
          "metadata": {},
          "execution_count": 15
        }
      ]
    },
    {
      "cell_type": "markdown",
      "source": [
        "From here we clearly see mistakes in the spelling of low fat and regular fat. Let's fix these."
      ],
      "metadata": {
        "id": "FKv67uoZuchu"
      }
    },
    {
      "cell_type": "code",
      "source": [
        "df_ml['Item_Fat_Content'].replace('LF','Low Fat', inplace=True)\n",
        "df_ml['Item_Fat_Content'].replace('low fat','Low Fat', inplace=True)\n",
        "df_ml['Item_Fat_Content'].replace('reg','Regular', inplace=True)\n",
        "df_ml['Item_Fat_Content'].value_counts()"
      ],
      "metadata": {
        "colab": {
          "base_uri": "https://localhost:8080/"
        },
        "id": "DWliCrEcY4m8",
        "outputId": "99ef54bc-9bbf-48d5-8075-b13b84642074"
      },
      "execution_count": 16,
      "outputs": [
        {
          "output_type": "execute_result",
          "data": {
            "text/plain": [
              "Low Fat    5517\n",
              "Regular    3006\n",
              "Name: Item_Fat_Content, dtype: int64"
            ]
          },
          "metadata": {},
          "execution_count": 16
        }
      ]
    },
    {
      "cell_type": "markdown",
      "source": [
        "Train test split."
      ],
      "metadata": {
        "id": "f_lxlgjnu2el"
      }
    },
    {
      "cell_type": "code",
      "source": [
        "X = df_ml.drop(columns = ['Item_Outlet_Sales'])\n",
        "y = df_ml['Item_Outlet_Sales']\n",
        "X_train, X_test, y_train, y_test = train_test_split(X, y, random_state=42)"
      ],
      "metadata": {
        "id": "ScTDt0X5Y8li"
      },
      "execution_count": 17,
      "outputs": []
    },
    {
      "cell_type": "markdown",
      "source": [
        "Lets re-examine our missing values and the type of the columns. "
      ],
      "metadata": {
        "id": "nDKJErCRu7GK"
      }
    },
    {
      "cell_type": "code",
      "source": [
        "display(X_train.isna().sum())\n",
        "print()\n",
        "display(\"The type of item weight is \", df_ml['Item_Weight'].dtype)\n",
        "print()\n",
        "display(\"The type of Outlet size is \", df_ml['Outlet_Size'].dtype)"
      ],
      "metadata": {
        "colab": {
          "base_uri": "https://localhost:8080/",
          "height": 331
        },
        "id": "_OYRqKbHZovq",
        "outputId": "d13645e4-c9bd-4d44-b653-c4bed1f4721f"
      },
      "execution_count": 18,
      "outputs": [
        {
          "output_type": "display_data",
          "data": {
            "text/plain": [
              "Item_Identifier                 0\n",
              "Item_Weight                  1107\n",
              "Item_Fat_Content                0\n",
              "Item_Visibility                 0\n",
              "Item_Type                       0\n",
              "Item_MRP                        0\n",
              "Outlet_Identifier               0\n",
              "Outlet_Establishment_Year       0\n",
              "Outlet_Size                  1812\n",
              "Outlet_Location_Type            0\n",
              "Outlet_Type                     0\n",
              "dtype: int64"
            ]
          },
          "metadata": {}
        },
        {
          "output_type": "stream",
          "name": "stdout",
          "text": [
            "\n"
          ]
        },
        {
          "output_type": "display_data",
          "data": {
            "text/plain": [
              "'The type of item weight is '"
            ],
            "application/vnd.google.colaboratory.intrinsic+json": {
              "type": "string"
            }
          },
          "metadata": {}
        },
        {
          "output_type": "display_data",
          "data": {
            "text/plain": [
              "dtype('float64')"
            ]
          },
          "metadata": {}
        },
        {
          "output_type": "stream",
          "name": "stdout",
          "text": [
            "\n"
          ]
        },
        {
          "output_type": "display_data",
          "data": {
            "text/plain": [
              "'The type of Outlet size is '"
            ],
            "application/vnd.google.colaboratory.intrinsic+json": {
              "type": "string"
            }
          },
          "metadata": {}
        },
        {
          "output_type": "display_data",
          "data": {
            "text/plain": [
              "dtype('O')"
            ]
          },
          "metadata": {}
        }
      ]
    },
    {
      "cell_type": "markdown",
      "source": [
        "We'll need to impute the values for these columns.\n",
        "\n",
        "We also need to scale our data and One Hot Encode all of the categorical columns."
      ],
      "metadata": {
        "id": "IwmnTwKXvUX9"
      }
    },
    {
      "cell_type": "markdown",
      "source": [
        "We begin by instantiating the selectors we need. Because one column is numeric and one is categoric/object, we'll need two column selectors."
      ],
      "metadata": {
        "id": "gG4bgoS6xoQF"
      }
    },
    {
      "cell_type": "code",
      "source": [
        "#instantiate our solumn selectors\n",
        "num_selector = make_column_selector(dtype_include='number')\n",
        "cat_selector = make_column_selector(dtype_include='object')"
      ],
      "metadata": {
        "id": "l--P57SZb-eJ"
      },
      "execution_count": 19,
      "outputs": []
    },
    {
      "cell_type": "markdown",
      "source": [
        "Next we'll create all of the transformers we need.\n",
        "We will use the mean strategy because we're not concerned with outliers."
      ],
      "metadata": {
        "id": "fHw6OtA2yV93"
      }
    },
    {
      "cell_type": "code",
      "source": [
        "mean_imputer = SimpleImputer(strategy='mean')\n",
        "freq_imputer = SimpleImputer(strategy='most_frequent')\n",
        "\n",
        "scaler = StandardScaler()\n",
        "\n",
        "ohe = OneHotEncoder(handle_unknown='ignore', sparse=False)"
      ],
      "metadata": {
        "id": "Y0BFWZmrygdy"
      },
      "execution_count": 20,
      "outputs": []
    },
    {
      "cell_type": "markdown",
      "source": [
        "Next, because we're applying many transformations on the same column type, we will use piplines."
      ],
      "metadata": {
        "id": "lZmDuSddy-fx"
      }
    },
    {
      "cell_type": "code",
      "source": [
        "num_pipe = make_pipeline(mean_imputer, scaler)\n",
        "cat_pipe = make_pipeline(freq_imputer, ohe)"
      ],
      "metadata": {
        "id": "TDcgJop0zK4J"
      },
      "execution_count": 21,
      "outputs": []
    },
    {
      "cell_type": "markdown",
      "source": [
        "Because we are operating on two different column types we'll need a transformer as well."
      ],
      "metadata": {
        "id": "gkaOsXiUzhoR"
      }
    },
    {
      "cell_type": "code",
      "source": [
        "# group with tuples\n",
        "num_tuple = (num_pipe, num_selector)\n",
        "cat_tuple = (cat_pipe, cat_selector)\n",
        "\n",
        "preprocessor = make_column_transformer(num_tuple, cat_tuple)\n",
        "\n",
        "preprocessor.fit(X_train)"
      ],
      "metadata": {
        "colab": {
          "base_uri": "https://localhost:8080/",
          "height": 152
        },
        "id": "-X8mP4_rzpik",
        "outputId": "45220c64-98c8-4722-99dc-87a8e0b20256"
      },
      "execution_count": 22,
      "outputs": [
        {
          "output_type": "execute_result",
          "data": {
            "text/plain": [
              "ColumnTransformer(transformers=[('pipeline-1',\n",
              "                                 Pipeline(steps=[('simpleimputer',\n",
              "                                                  SimpleImputer()),\n",
              "                                                 ('standardscaler',\n",
              "                                                  StandardScaler())]),\n",
              "                                 <sklearn.compose._column_transformer.make_column_selector object at 0x7f8ff202b350>),\n",
              "                                ('pipeline-2',\n",
              "                                 Pipeline(steps=[('simpleimputer',\n",
              "                                                  SimpleImputer(strategy='most_frequent')),\n",
              "                                                 ('onehotencoder',\n",
              "                                                  OneHotEncoder(handle_unknown='ignore',\n",
              "                                                                sparse=False))]),\n",
              "                                 <sklearn.compose._column_transformer.make_column_selector object at 0x7f8ff202b390>)])"
            ],
            "text/html": [
              "<style>#sk-beaa5373-c4c9-4eb3-866d-0aafdf202419 {color: black;background-color: white;}#sk-beaa5373-c4c9-4eb3-866d-0aafdf202419 pre{padding: 0;}#sk-beaa5373-c4c9-4eb3-866d-0aafdf202419 div.sk-toggleable {background-color: white;}#sk-beaa5373-c4c9-4eb3-866d-0aafdf202419 label.sk-toggleable__label {cursor: pointer;display: block;width: 100%;margin-bottom: 0;padding: 0.3em;box-sizing: border-box;text-align: center;}#sk-beaa5373-c4c9-4eb3-866d-0aafdf202419 label.sk-toggleable__label-arrow:before {content: \"▸\";float: left;margin-right: 0.25em;color: #696969;}#sk-beaa5373-c4c9-4eb3-866d-0aafdf202419 label.sk-toggleable__label-arrow:hover:before {color: black;}#sk-beaa5373-c4c9-4eb3-866d-0aafdf202419 div.sk-estimator:hover label.sk-toggleable__label-arrow:before {color: black;}#sk-beaa5373-c4c9-4eb3-866d-0aafdf202419 div.sk-toggleable__content {max-height: 0;max-width: 0;overflow: hidden;text-align: left;background-color: #f0f8ff;}#sk-beaa5373-c4c9-4eb3-866d-0aafdf202419 div.sk-toggleable__content pre {margin: 0.2em;color: black;border-radius: 0.25em;background-color: #f0f8ff;}#sk-beaa5373-c4c9-4eb3-866d-0aafdf202419 input.sk-toggleable__control:checked~div.sk-toggleable__content {max-height: 200px;max-width: 100%;overflow: auto;}#sk-beaa5373-c4c9-4eb3-866d-0aafdf202419 input.sk-toggleable__control:checked~label.sk-toggleable__label-arrow:before {content: \"▾\";}#sk-beaa5373-c4c9-4eb3-866d-0aafdf202419 div.sk-estimator input.sk-toggleable__control:checked~label.sk-toggleable__label {background-color: #d4ebff;}#sk-beaa5373-c4c9-4eb3-866d-0aafdf202419 div.sk-label input.sk-toggleable__control:checked~label.sk-toggleable__label {background-color: #d4ebff;}#sk-beaa5373-c4c9-4eb3-866d-0aafdf202419 input.sk-hidden--visually {border: 0;clip: rect(1px 1px 1px 1px);clip: rect(1px, 1px, 1px, 1px);height: 1px;margin: -1px;overflow: hidden;padding: 0;position: absolute;width: 1px;}#sk-beaa5373-c4c9-4eb3-866d-0aafdf202419 div.sk-estimator {font-family: monospace;background-color: #f0f8ff;border: 1px dotted black;border-radius: 0.25em;box-sizing: border-box;margin-bottom: 0.5em;}#sk-beaa5373-c4c9-4eb3-866d-0aafdf202419 div.sk-estimator:hover {background-color: #d4ebff;}#sk-beaa5373-c4c9-4eb3-866d-0aafdf202419 div.sk-parallel-item::after {content: \"\";width: 100%;border-bottom: 1px solid gray;flex-grow: 1;}#sk-beaa5373-c4c9-4eb3-866d-0aafdf202419 div.sk-label:hover label.sk-toggleable__label {background-color: #d4ebff;}#sk-beaa5373-c4c9-4eb3-866d-0aafdf202419 div.sk-serial::before {content: \"\";position: absolute;border-left: 1px solid gray;box-sizing: border-box;top: 2em;bottom: 0;left: 50%;}#sk-beaa5373-c4c9-4eb3-866d-0aafdf202419 div.sk-serial {display: flex;flex-direction: column;align-items: center;background-color: white;padding-right: 0.2em;padding-left: 0.2em;}#sk-beaa5373-c4c9-4eb3-866d-0aafdf202419 div.sk-item {z-index: 1;}#sk-beaa5373-c4c9-4eb3-866d-0aafdf202419 div.sk-parallel {display: flex;align-items: stretch;justify-content: center;background-color: white;}#sk-beaa5373-c4c9-4eb3-866d-0aafdf202419 div.sk-parallel::before {content: \"\";position: absolute;border-left: 1px solid gray;box-sizing: border-box;top: 2em;bottom: 0;left: 50%;}#sk-beaa5373-c4c9-4eb3-866d-0aafdf202419 div.sk-parallel-item {display: flex;flex-direction: column;position: relative;background-color: white;}#sk-beaa5373-c4c9-4eb3-866d-0aafdf202419 div.sk-parallel-item:first-child::after {align-self: flex-end;width: 50%;}#sk-beaa5373-c4c9-4eb3-866d-0aafdf202419 div.sk-parallel-item:last-child::after {align-self: flex-start;width: 50%;}#sk-beaa5373-c4c9-4eb3-866d-0aafdf202419 div.sk-parallel-item:only-child::after {width: 0;}#sk-beaa5373-c4c9-4eb3-866d-0aafdf202419 div.sk-dashed-wrapped {border: 1px dashed gray;margin: 0 0.4em 0.5em 0.4em;box-sizing: border-box;padding-bottom: 0.4em;background-color: white;position: relative;}#sk-beaa5373-c4c9-4eb3-866d-0aafdf202419 div.sk-label label {font-family: monospace;font-weight: bold;background-color: white;display: inline-block;line-height: 1.2em;}#sk-beaa5373-c4c9-4eb3-866d-0aafdf202419 div.sk-label-container {position: relative;z-index: 2;text-align: center;}#sk-beaa5373-c4c9-4eb3-866d-0aafdf202419 div.sk-container {/* jupyter's `normalize.less` sets `[hidden] { display: none; }` but bootstrap.min.css set `[hidden] { display: none !important; }` so we also need the `!important` here to be able to override the default hidden behavior on the sphinx rendered scikit-learn.org. See: https://github.com/scikit-learn/scikit-learn/issues/21755 */display: inline-block !important;position: relative;}#sk-beaa5373-c4c9-4eb3-866d-0aafdf202419 div.sk-text-repr-fallback {display: none;}</style><div id=\"sk-beaa5373-c4c9-4eb3-866d-0aafdf202419\" class=\"sk-top-container\"><div class=\"sk-text-repr-fallback\"><pre>ColumnTransformer(transformers=[(&#x27;pipeline-1&#x27;,\n",
              "                                 Pipeline(steps=[(&#x27;simpleimputer&#x27;,\n",
              "                                                  SimpleImputer()),\n",
              "                                                 (&#x27;standardscaler&#x27;,\n",
              "                                                  StandardScaler())]),\n",
              "                                 &lt;sklearn.compose._column_transformer.make_column_selector object at 0x7f8ff202b350&gt;),\n",
              "                                (&#x27;pipeline-2&#x27;,\n",
              "                                 Pipeline(steps=[(&#x27;simpleimputer&#x27;,\n",
              "                                                  SimpleImputer(strategy=&#x27;most_frequent&#x27;)),\n",
              "                                                 (&#x27;onehotencoder&#x27;,\n",
              "                                                  OneHotEncoder(handle_unknown=&#x27;ignore&#x27;,\n",
              "                                                                sparse=False))]),\n",
              "                                 &lt;sklearn.compose._column_transformer.make_column_selector object at 0x7f8ff202b390&gt;)])</pre><b>Please rerun this cell to show the HTML repr or trust the notebook.</b></div><div class=\"sk-container\" hidden><div class=\"sk-item sk-dashed-wrapped\"><div class=\"sk-label-container\"><div class=\"sk-label sk-toggleable\"><input class=\"sk-toggleable__control sk-hidden--visually\" id=\"11b8a53a-5af2-4edc-8896-19623cf20966\" type=\"checkbox\" ><label for=\"11b8a53a-5af2-4edc-8896-19623cf20966\" class=\"sk-toggleable__label sk-toggleable__label-arrow\">ColumnTransformer</label><div class=\"sk-toggleable__content\"><pre>ColumnTransformer(transformers=[(&#x27;pipeline-1&#x27;,\n",
              "                                 Pipeline(steps=[(&#x27;simpleimputer&#x27;,\n",
              "                                                  SimpleImputer()),\n",
              "                                                 (&#x27;standardscaler&#x27;,\n",
              "                                                  StandardScaler())]),\n",
              "                                 &lt;sklearn.compose._column_transformer.make_column_selector object at 0x7f8ff202b350&gt;),\n",
              "                                (&#x27;pipeline-2&#x27;,\n",
              "                                 Pipeline(steps=[(&#x27;simpleimputer&#x27;,\n",
              "                                                  SimpleImputer(strategy=&#x27;most_frequent&#x27;)),\n",
              "                                                 (&#x27;onehotencoder&#x27;,\n",
              "                                                  OneHotEncoder(handle_unknown=&#x27;ignore&#x27;,\n",
              "                                                                sparse=False))]),\n",
              "                                 &lt;sklearn.compose._column_transformer.make_column_selector object at 0x7f8ff202b390&gt;)])</pre></div></div></div><div class=\"sk-parallel\"><div class=\"sk-parallel-item\"><div class=\"sk-item\"><div class=\"sk-label-container\"><div class=\"sk-label sk-toggleable\"><input class=\"sk-toggleable__control sk-hidden--visually\" id=\"a351c75b-d26d-4ac6-984b-48b953ab2270\" type=\"checkbox\" ><label for=\"a351c75b-d26d-4ac6-984b-48b953ab2270\" class=\"sk-toggleable__label sk-toggleable__label-arrow\">pipeline-1</label><div class=\"sk-toggleable__content\"><pre>&lt;sklearn.compose._column_transformer.make_column_selector object at 0x7f8ff202b350&gt;</pre></div></div></div><div class=\"sk-serial\"><div class=\"sk-item\"><div class=\"sk-serial\"><div class=\"sk-item\"><div class=\"sk-estimator sk-toggleable\"><input class=\"sk-toggleable__control sk-hidden--visually\" id=\"333c9397-895c-4414-9d32-ef54b2180706\" type=\"checkbox\" ><label for=\"333c9397-895c-4414-9d32-ef54b2180706\" class=\"sk-toggleable__label sk-toggleable__label-arrow\">SimpleImputer</label><div class=\"sk-toggleable__content\"><pre>SimpleImputer()</pre></div></div></div><div class=\"sk-item\"><div class=\"sk-estimator sk-toggleable\"><input class=\"sk-toggleable__control sk-hidden--visually\" id=\"656850b8-1a83-47a9-be5c-f22f270840f0\" type=\"checkbox\" ><label for=\"656850b8-1a83-47a9-be5c-f22f270840f0\" class=\"sk-toggleable__label sk-toggleable__label-arrow\">StandardScaler</label><div class=\"sk-toggleable__content\"><pre>StandardScaler()</pre></div></div></div></div></div></div></div></div><div class=\"sk-parallel-item\"><div class=\"sk-item\"><div class=\"sk-label-container\"><div class=\"sk-label sk-toggleable\"><input class=\"sk-toggleable__control sk-hidden--visually\" id=\"9791fcaa-578e-411c-a5ce-a2c99e5da517\" type=\"checkbox\" ><label for=\"9791fcaa-578e-411c-a5ce-a2c99e5da517\" class=\"sk-toggleable__label sk-toggleable__label-arrow\">pipeline-2</label><div class=\"sk-toggleable__content\"><pre>&lt;sklearn.compose._column_transformer.make_column_selector object at 0x7f8ff202b390&gt;</pre></div></div></div><div class=\"sk-serial\"><div class=\"sk-item\"><div class=\"sk-serial\"><div class=\"sk-item\"><div class=\"sk-estimator sk-toggleable\"><input class=\"sk-toggleable__control sk-hidden--visually\" id=\"803960dc-d40c-40ed-b2b4-47d211d4db35\" type=\"checkbox\" ><label for=\"803960dc-d40c-40ed-b2b4-47d211d4db35\" class=\"sk-toggleable__label sk-toggleable__label-arrow\">SimpleImputer</label><div class=\"sk-toggleable__content\"><pre>SimpleImputer(strategy=&#x27;most_frequent&#x27;)</pre></div></div></div><div class=\"sk-item\"><div class=\"sk-estimator sk-toggleable\"><input class=\"sk-toggleable__control sk-hidden--visually\" id=\"22aa3274-a238-4ffb-bf3f-081da10cb929\" type=\"checkbox\" ><label for=\"22aa3274-a238-4ffb-bf3f-081da10cb929\" class=\"sk-toggleable__label sk-toggleable__label-arrow\">OneHotEncoder</label><div class=\"sk-toggleable__content\"><pre>OneHotEncoder(handle_unknown=&#x27;ignore&#x27;, sparse=False)</pre></div></div></div></div></div></div></div></div></div></div></div></div>"
            ]
          },
          "metadata": {},
          "execution_count": 22
        }
      ]
    },
    {
      "cell_type": "markdown",
      "source": [
        "Now we can transform our data all at once."
      ],
      "metadata": {
        "id": "krxbMHhr0M45"
      }
    },
    {
      "cell_type": "code",
      "source": [
        "X_train_processed = preprocessor.transform(X_train)\n",
        "X_test_processed = preprocessor.transform(X_test)"
      ],
      "metadata": {
        "id": "BFwl6MFz0RMo"
      },
      "execution_count": 23,
      "outputs": []
    },
    {
      "cell_type": "markdown",
      "source": [
        "Check to see if there are any null values.\n"
      ],
      "metadata": {
        "id": "csbaIqBmwN_4"
      }
    },
    {
      "cell_type": "code",
      "source": [
        "np.isnan(X_train_processed).sum().sum()"
      ],
      "metadata": {
        "colab": {
          "base_uri": "https://localhost:8080/"
        },
        "id": "V9ysmPDD1xhB",
        "outputId": "fc261a99-82c0-450e-8a08-c50c50afb3a1"
      },
      "execution_count": 24,
      "outputs": [
        {
          "output_type": "execute_result",
          "data": {
            "text/plain": [
              "0"
            ]
          },
          "metadata": {},
          "execution_count": 24
        }
      ]
    },
    {
      "cell_type": "markdown",
      "source": [
        "Perfect, we have no missing data! We are ready for modeling."
      ],
      "metadata": {
        "id": "u52MFy0E2VsV"
      }
    }
  ]
}